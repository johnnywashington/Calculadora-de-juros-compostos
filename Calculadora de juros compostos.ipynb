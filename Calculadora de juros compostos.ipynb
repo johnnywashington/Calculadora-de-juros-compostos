{
 "cells": [
  {
   "cell_type": "markdown",
   "id": "a44b8035",
   "metadata": {},
   "source": [
    "# Projeto criando uma calculadora de juros compostos"
   ]
  },
  {
   "cell_type": "code",
   "execution_count": null,
   "id": "6ac7ae76",
   "metadata": {
    "scrolled": false
   },
   "outputs": [],
   "source": [
    "nome = input(\"Qual o seu nome? \")\n",
    "\n",
    "print(f\"Olá {nome}, seja muito bem vindo aos juros compostos! Aqui nós cuidamos da sua aposentadoria :)\")\n",
    "\n",
    "dinheiro_inicial = int(input(\"Digite a quantidade de dinheiro inicial do investimento: \"))\n",
    "tempo_desejado = int(input(\"Digite quantos meses você deixará o dinheiro investido: \"))\n",
    "taxa = float(input(\"Digite, em decimal, qual a taxa mensal de retorno do seu investimento: \"))\n",
    "aporte = int(input(\"Quanto dinheiro você consegue aportar por mês: \"))\n",
    "salario_desejado = int(input(\"Digite o salário mensal que você quer receber ao se aposentar: \"))\n",
    "\n",
    "\n",
    "tempo_decorrido = 0\n",
    "\n",
    "while tempo_decorrido < tempo_desejado:\n",
    "    \n",
    "    if tempo_decorrido == 0:\n",
    "        \n",
    "        montante = dinheiro_inicial * (1 + taxa) ** 1\n",
    "        montante = round(montante, 2)\n",
    "        tempo_decorrido = tempo_decorrido + 1\n",
    "        \n",
    "    else:\n",
    "        \n",
    "        montante = (montante + aporte) * (1 + taxa) ** 1\n",
    "        montante = round(montante, 2)\n",
    "        tempo_decorrido = tempo_decorrido + 1\n",
    "        \n",
    "\n",
    "print('---------------------------------------------')\n",
    "\n",
    "print(f\"Parabéns {nome}! Ao final do período você terá R${montante}!\")\n",
    "\n",
    "salario_mensal = (montante * taxa)\n",
    "salario_mensal = round(salario_mensal, 2)\n",
    "\n",
    "if salario_mensal >= salario_desejado:\n",
    "    \n",
    "    print(f\"Parabéns, você pode se aposentar! Seu salário mensal com esse montante é de R$ {salario_mensal}\")\n",
    "    \n",
    "    \n",
    "elif salario_mensal < salario_desejado:\n",
    "    \n",
    "    print(f\"Infelizmente se aposentar não será possível. Com esse montante seu salário mensal é de R$ {salario_mensal}\")"
   ]
  },
  {
   "cell_type": "code",
   "execution_count": null,
   "id": "809e3ec6",
   "metadata": {},
   "outputs": [],
   "source": []
  }
 ],
 "metadata": {
  "kernelspec": {
   "display_name": "Python 3 (ipykernel)",
   "language": "python",
   "name": "python3"
  },
  "language_info": {
   "codemirror_mode": {
    "name": "ipython",
    "version": 3
   },
   "file_extension": ".py",
   "mimetype": "text/x-python",
   "name": "python",
   "nbconvert_exporter": "python",
   "pygments_lexer": "ipython3",
   "version": "3.11.5"
  }
 },
 "nbformat": 4,
 "nbformat_minor": 5
}
